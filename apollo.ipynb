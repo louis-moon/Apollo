{
 "cells": [
  {
   "cell_type": "code",
   "execution_count": 1,
   "id": "d41d8157",
   "metadata": {},
   "outputs": [
    {
     "name": "stdout",
     "output_type": "stream",
     "text": [
      "Fitting 3 folds for each of 70 candidates, totalling 210 fits\n",
      "Mean squared error: 2.03\n"
     ]
    }
   ],
   "source": [
    "import numpy as np\n",
    "import pandas as pd\n",
    "from sklearn.ensemble import RandomForestRegressor\n",
    "from sklearn.model_selection import train_test_split, GridSearchCV\n",
    "from sklearn.metrics import mean_squared_error\n",
    "\n",
    "data = pd.read_csv(\"table.csv\")\n",
    "data = data.set_index('Nutrients').T\n",
    "\n",
    "vitamin_c_col = data[\"Vitamin C, mg\"]\n",
    "X = data.drop(\"Vitamin C, mg\", axis=1)\n",
    "y = vitamin_c_col\n",
    "\n",
    "X_train, X_test, y_train, y_test = train_test_split(X, y, test_size=1/13, random_state=42)\n",
    "\n",
    "regressor = RandomForestRegressor(random_state=42)\n",
    "\n",
    "param_grid = {\n",
    "    'n_estimators': [200],\n",
    "    'max_depth': [None, 1, 2, 3, 4, 5, 6, 7, 8, 9, 10, 11, 12, 13],\n",
    "    'min_samples_split': [2, 3, 4, 5, 6]\n",
    "}\n",
    "\n",
    "grid_search = GridSearchCV(estimator=regressor, param_grid=param_grid, cv=3, scoring='neg_mean_squared_error', verbose=1, n_jobs=-1)\n",
    "grid_search.fit(X_train, y_train)\n",
    "\n",
    "best_parameters = grid_search.best_params_\n",
    "\n",
    "best_regressor = RandomForestRegressor(n_estimators=best_parameters['n_estimators'], \n",
    "                                       max_depth=best_parameters['max_depth'], \n",
    "                                       min_samples_split=best_parameters['min_samples_split'], \n",
    "                                       random_state=42)\n",
    "\n",
    "best_regressor.fit(X_train, y_train)\n",
    "\n",
    "predicted_vitamin_c = best_regressor.predict(X_test)\n",
    "\n",
    "mse = mean_squared_error(y_test, predicted_vitamin_c)\n",
    "print(\"Mean squared error:\", round(mse, 2))"
   ]
  }
 ],
 "metadata": {
  "kernelspec": {
   "display_name": "Python 3 (ipykernel)",
   "language": "python",
   "name": "python3"
  },
  "language_info": {
   "codemirror_mode": {
    "name": "ipython",
    "version": 3
   },
   "file_extension": ".py",
   "mimetype": "text/x-python",
   "name": "python",
   "nbconvert_exporter": "python",
   "pygments_lexer": "ipython3",
   "version": "3.9.12"
  }
 },
 "nbformat": 4,
 "nbformat_minor": 5
}
